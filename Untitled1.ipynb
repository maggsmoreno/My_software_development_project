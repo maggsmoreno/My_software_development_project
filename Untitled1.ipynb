{
 "cells": [
  {
   "cell_type": "code",
   "execution_count": 3,
   "id": "95fd464a-0bf1-4513-9189-229e2374180e",
   "metadata": {},
   "outputs": [
    {
     "name": "stderr",
     "output_type": "stream",
     "text": [
      "<>:8: SyntaxWarning: invalid escape sequence '\\w'\n",
      "<>:8: SyntaxWarning: invalid escape sequence '\\w'\n",
      "/var/folders/k_/dy6qkrnj0ms5c14tbvxs6k3w0000gn/T/ipykernel_48541/4050316878.py:8: SyntaxWarning: invalid escape sequence '\\w'\n",
      "  if re.match('[.\\w]+@\\w+[.]\\w+', string):\n"
     ]
    }
   ],
   "source": [
    "import re\n",
    "\n",
    "def check_email(string: str):\n",
    "    '''\n",
    "      use regular expressions to check email address formatting\n",
    "      the pattern is \"something@something.something\"\n",
    "      '''\n",
    "    if re.match('[.\\w]+@\\w+[.]\\w+', string):\n",
    "        print('correct')\n",
    "    else:\n",
    "        print('check email address')\n",
    "\n",
    "def check_age(age: int):\n",
    "    if age >= 50:\n",
    "        print('access granted')\n",
    "    else:\n",
    "        print(\"you're just too young\")\n",
    "        "
   ]
  },
  {
   "cell_type": "code",
   "execution_count": 5,
   "id": "32524db4-ba24-4f59-8f2f-c70b478588db",
   "metadata": {},
   "outputs": [
    {
     "ename": "ModuleNotFoundError",
     "evalue": "No module named 'module'",
     "output_type": "error",
     "traceback": [
      "\u001b[0;31m---------------------------------------------------------------------------\u001b[0m",
      "\u001b[0;31mModuleNotFoundError\u001b[0m                       Traceback (most recent call last)",
      "Cell \u001b[0;32mIn[5], line 1\u001b[0m\n\u001b[0;32m----> 1\u001b[0m \u001b[38;5;28;01mfrom\u001b[39;00m \u001b[38;5;21;01mmodule\u001b[39;00m \u001b[38;5;28;01mimport\u001b[39;00m \u001b[38;5;241m*\u001b[39m\n\u001b[1;32m      3\u001b[0m email \u001b[38;5;241m=\u001b[39m \u001b[38;5;28minput\u001b[39m()\n\u001b[1;32m      4\u001b[0m check_email(email)\n",
      "\u001b[0;31mModuleNotFoundError\u001b[0m: No module named 'module'"
     ]
    }
   ],
   "source": [
    "from module import *\n",
    "\n",
    "email = input()\n",
    "check_email(email)"
   ]
  },
  {
   "cell_type": "code",
   "execution_count": null,
   "id": "fb5ccbab-3bf8-4c68-a781-07d542d36506",
   "metadata": {},
   "outputs": [],
   "source": [
    "import requests\n",
    "\n",
    "api_key = 'zC5JOYIAeAgn92Z9CJKUQE1ns3dvHeyf'  # example of the API key, not a real one\n",
    "params = {'apikey': api_key, 'q': 'New York'}\n",
    "\n",
    "aw_location_url = \"https://dataservice.accuweather.com/locations/v1/cities/search\"\n",
    "aw_location_res = requests.get(aw_location_url, params=params)\n",
    "\n"
   ]
  },
  {
   "cell_type": "code",
   "execution_count": null,
   "id": "63720d8a-6af6-4ce3-a6ff-69fb7f14bc7f",
   "metadata": {},
   "outputs": [],
   "source": []
  }
 ],
 "metadata": {
  "kernelspec": {
   "display_name": "Python [conda env:base] *",
   "language": "python",
   "name": "conda-base-py"
  },
  "language_info": {
   "codemirror_mode": {
    "name": "ipython",
    "version": 3
   },
   "file_extension": ".py",
   "mimetype": "text/x-python",
   "name": "python",
   "nbconvert_exporter": "python",
   "pygments_lexer": "ipython3",
   "version": "3.12.7"
  }
 },
 "nbformat": 4,
 "nbformat_minor": 5
}
