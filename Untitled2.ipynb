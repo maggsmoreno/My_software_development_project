{
 "cells": [
  {
   "cell_type": "code",
   "execution_count": 1,
   "id": "644e61c5-da2f-4a56-8420-485cf8588012",
   "metadata": {},
   "outputs": [
    {
     "ename": "SyntaxError",
     "evalue": "invalid syntax (2520587411.py, line 1)",
     "output_type": "error",
     "traceback": [
      "\u001b[0;36m  Cell \u001b[0;32mIn[1], line 1\u001b[0;36m\u001b[0m\n\u001b[0;31m    python3 module_1.py\u001b[0m\n\u001b[0m            ^\u001b[0m\n\u001b[0;31mSyntaxError\u001b[0m\u001b[0;31m:\u001b[0m invalid syntax\n"
     ]
    }
   ],
   "source": [
    "python3 module_1.py\n"
   ]
  },
  {
   "cell_type": "code",
   "execution_count": null,
   "id": "f4f95df5-aaef-4f7d-bd5e-1c90bcb65822",
   "metadata": {},
   "outputs": [],
   "source": [
    "my_list = ['coat', 'goat']\n",
    "my_list.append('boat')\n",
    "print(my_list)\n"
   ]
  },
  {
   "cell_type": "code",
   "execution_count": null,
   "id": "165b7ddd-6827-439e-9f9c-ce9baebc7a0d",
   "metadata": {},
   "outputs": [],
   "source": []
  }
 ],
 "metadata": {
  "kernelspec": {
   "display_name": "Python [conda env:base] *",
   "language": "python",
   "name": "conda-base-py"
  },
  "language_info": {
   "codemirror_mode": {
    "name": "ipython",
    "version": 3
   },
   "file_extension": ".py",
   "mimetype": "text/x-python",
   "name": "python",
   "nbconvert_exporter": "python",
   "pygments_lexer": "ipython3",
   "version": "3.12.7"
  }
 },
 "nbformat": 4,
 "nbformat_minor": 5
}
